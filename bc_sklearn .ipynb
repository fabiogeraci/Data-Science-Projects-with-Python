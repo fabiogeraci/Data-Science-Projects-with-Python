# Load packages and check versions
import pandas as pd
import numpy as np
import matplotlib.pyplot as plt
import matplotlib as mpl
import sklearn

print('The Python version is {}.\n'.format(sys.version))
print('The Numpy version is {}.\n'.format(np.__version__))
print('The Pandas version is {}.\n'.format(pd.__version__))
print('The Matplotlib version is {}.\n'.format(mpl.__version__))
print('The Scikit-Learn version is {}.\n'.format(sklearn.__version__))

# high resolution figures
mpl.rcParams['figure.dpi'] = 400

df = pd.read_csv('data/Chap_1_cleaned_data.csv')

print(df['default payment next month'].mean())
print(df.groupby('default payment next month')['ID'].count())

#Import the class
from sklearn.linear_model import LogisticRegression

#Create an object
my_lr = LogisticRegression()
my_new_lr = LogisticRegression(C=1.0, class_weight=None, dual=False, fit_intercept=True,
                               intercept_scaling=1, max_iter=100, multi_class='auto',
                               n_jobs=None, penalty='l2', random_state=None, solver='warn',
                               tol=0.0001, verbose=0, warm_start=False)

my_new_lr.C = 0.1
my_new_lr.solver = 'liblinear'

np.random.seed(1)
from sklearn.model_selection import train_test_split

X_train, X_test, y_train, y_test = train_test_split(df['EDUCATION'].values.reshape(-1,1),
                                                    df['default payment next month'].values,
                                                    test_size=0.2, random_state=24)